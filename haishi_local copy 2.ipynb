{
 "cells": [
  {
   "cell_type": "code",
   "execution_count": 1,
   "metadata": {},
   "outputs": [],
   "source": [
    "import pandas as pd\n",
    "import folium # 地图绘制工具\n",
    "from pyproj import Transformer # 用于地理坐标转换\n",
    "import datetime # 处理日期和时间，可进行日期和时间的加减、格式化、比较等\n",
    "import time # 处理时间\n",
    "\n",
    "from geographiclib.geodesic import Geodesic\n",
    "#用于计算地球上大圆线和小圆弧\n",
    "\n",
    "from sklearn.cluster import DBSCAN\n",
    "from sklearn.preprocessing import StandardScaler\n",
    "import numpy as np\n",
    "import seaborn as sns\n",
    "import matplotlib.pyplot as plt\n",
    "\n",
    "import torch\n",
    "import torch.nn as nn"
   ]
  },
  {
   "cell_type": "code",
   "execution_count": 2,
   "metadata": {},
   "outputs": [],
   "source": [
    "def utcsec2str(s, f='%Y-%m-%d %H:%M:%S'):\n",
    "    \"\"\"utc秒数转换为时间字符串,\n",
    "    datetime库中datetime类的utcfromtimestamp()方法,将Unix时间戳转换为UTC时间的datetime对象;\n",
    "    strftime():将一个datetime对象格式化为字符串\"\"\"\n",
    "    return datetime.datetime.utcfromtimestamp(s).strftime(f)\n",
    "\n",
    "# def traj_from_wkt(the_wkt):\n",
    "#     \"轨迹WKT字符串转换为轨迹对象\"\n",
    "#     the_wkt = the_wkt.strip()\n",
    "#     data = [[float(y) \n",
    "#           for y in x.split(\" \")] for x in the_wkt[the_wkt.index(\"(\") + 1:the_wkt.index(\")\")].split(\",\")]\n",
    "#     return data\n",
    "\n",
    "# 轨迹可视化风格\n",
    "# weight为像素宽度，opacity：折线不透明度（0-1之间的浮点数），color：折线颜色\n",
    "# stroke：是否沿路径绘制笔划。将其设置为false可禁用多边形或圆上的边界\n",
    "# radius:圆形标记的像素半径，fill：是否填充，fillColor：填充颜色，fillOpacity:填充不透明度\n",
    "traj_default_folium_theme = {\n",
    "    'traj_line_props': {\n",
    "        'weight': 2,\n",
    "        'stroke': True,\n",
    "        'opacity': 0.5,\n",
    "        'color': 'red'\n",
    "    },\n",
    "    'traj_point_props': {\n",
    "        'radius': 1,\n",
    "        'weight': 1,\n",
    "        'color': 'green',\n",
    "        'opacity': 1,\n",
    "        'fill': True,\n",
    "        'fillColor': 'green',\n",
    "        'fillOpacity': 0.5\n",
    "    }\n",
    "}\n",
    "\n",
    "def traj_to_folium(m: folium.map,\n",
    "                   traj,\n",
    "                   show_line: bool = True, \n",
    "                   show_point: bool = True,\n",
    "                   show_pt_time_tip: bool = True,\n",
    "                   zoom_to_traj:bool = False,\n",
    "                   traj_line_props: dict = traj_default_folium_theme['traj_line_props'],\n",
    "                   traj_point_props: dict = traj_default_folium_theme['traj_point_props']\n",
    "                   ):\n",
    "    \"\"\"使用Folium可视化轨迹函数\"\"\"\n",
    "    data = traj\n",
    "    coords = [(p[2], p[1]) for p in data] # (纬度，经度)坐标的列表\n",
    "    \n",
    "    if show_line: #展示行迹折线\n",
    "        line = folium.PolyLine(coords, **traj_line_props) # 创建地图上的折线层\n",
    "        # 带有 ** 的参数：可变关键字参数，可接收任意数量的关键字参数，并将这些参数打包成一个字典传递给函数\n",
    "        line.add_to(m) # 将折线图层加到map对象\n",
    "        \n",
    "    # folium.CircleMarker():在地图上指定位置创建圆形标记\n",
    "    if show_point: #展示信息点\n",
    "        for p in data:\n",
    "            if show_pt_time_tip:\n",
    "                tip = utcsec2str(int(p[0])) # 时间字符串\n",
    "            folium.CircleMarker([p[2], p[1]], tooltip=tip, **traj_point_props).add_to(m)\n",
    "            \n",
    "    #get_bounds()：获取地图对象的边界框（bounding box），即元组 (southwest, northeast)\n",
    "    # southwest 和 northeast 分别是左下角和右上角的经纬度坐标\n",
    "    # fit_bounds()：用于自动缩放地图，使其适合指定的边界框\n",
    "    if zoom_to_traj: # 缩放行迹\n",
    "        m.fit_bounds(line.get_bounds())"
   ]
  },
  {
   "cell_type": "code",
   "execution_count": 3,
   "metadata": {},
   "outputs": [],
   "source": [
    "def timestr2sec(s,f='%Y-%m-%d %H:%M:%S.000000'):\n",
    "    \"\"\"将字符串解析为时间对象,再转换为时间戳\"\"\"\n",
    "    return time.mktime(time.strptime(s,f))\n",
    "# time.strptime()：将字符串解析为时间对象\n",
    "# time.mktime():将一个struct_time对象转换为时间戳(从1970年1月1日0时开始到现在的秒数)\n",
    "\n",
    "# iterrows()方法：用于迭代DateFrame中的每一行数据；返回一个生成器对象\n",
    "# 生成器对象每次迭代返回一个元组(行索引，该行series对象),其中series对象中索引为列名，值为该行数据对应列的值\n",
    "def getTrajByMMSI(mmsi):\n",
    "    \"\"\"由mmsi信息筛选得到数据中某个船只的数据;\n",
    "        将basedatetime列转换为Unix时间戳;\n",
    "        生成列表[Unix,经度,纬度]表示该船只的行迹,按照Unix大小排序\"\"\"\n",
    "    pts = [(timestr2sec(r[\"basedatetime\"]),r[\"lon\"],r[\"lat\"]) \n",
    "           for x,r in df_ais_pts[df_ais_pts[\"mmsi\"]==mmsi][[\"basedatetime\",\"lon\",\"lat\"]].iterrows()]\n",
    "    pts.sort(key=lambda p:p[0]) # 将列表按照时间戳大小排序\n",
    "    return pts"
   ]
  },
  {
   "cell_type": "code",
   "execution_count": 4,
   "metadata": {},
   "outputs": [],
   "source": [
    "def plot_traj_to_folium(mmsi):\n",
    "    \"\"\"把船的行迹在地图上显示\"\"\"\n",
    "    traj = getTrajByMMSI(mmsi) # [Unix,经度,纬度]\n",
    "    figure = folium.Figure(width=1000, height=500) # 创建一个包含一个或多个地图的Figure对象\n",
    "    map = folium.Map() # 创建地图对象\n",
    "\n",
    "# folium.TileLayer(tiles,attr).add_to(map):添加基础地图图层到地图对象中\n",
    "# tiles：地图样式,attr:图层属性，用于指定地图图层版权信息\n",
    "    folium.TileLayer(\n",
    "        tiles=\"https://server.arcgisonline.com/ArcGIS/rest/services/World_Imagery/MapServer/tile/{z}/{y}/{x}\", \n",
    "        attr=\"ESRI IMAGERY\").add_to(map) \n",
    "    map.add_to(figure) # 将地图对象添加到figure对象中\n",
    "    traj_to_folium(map, traj, zoom_to_traj=True) # 将行迹可视化，自动缩放到折线的边界框\n",
    "    return map\n",
    "\n",
    "def plot_traj_point_scatter(mmsi):\n",
    "    \"\"\"把船的行迹在坐标轴上显示\"\"\"\n",
    "    df_ais_pts_1=df_ais_pts[df_ais_pts['mmsi'] == mmsi]\n",
    "    position = df_ais_pts_1[['lat','lon']]\n",
    "    return position.plot.scatter(x='lon',y='lat',\n",
    "                                 figsize=(12,5),color='blue',\n",
    "                                 title='mmsi={}'.format(mmsi)).grid()"
   ]
  },
  {
   "cell_type": "code",
   "execution_count": 5,
   "metadata": {},
   "outputs": [],
   "source": [
    "def distance(lon1,lat1,lon2,lat2):\n",
    "    \"\"\"两个地理点（纬度，经度）的地理距离：\n",
    "    Geodesic.WGS84.Inverse创建了一个基于 WGS84 椭球体模型的 Geodesic 对象，用于执行大圆线计算。\n",
    "    [\"s12\"] 表示获取 Inverse 方法返回的字典中，键为 s12 的值，该值存储了两点之间的大圆线距离，单位为米\n",
    "    \"\"\"\n",
    "    return Geodesic.WGS84.Inverse(lat1, lon1, lat2, lon2)[\"s12\"]\n",
    "\n",
    "def traj_simplify(traj):\n",
    "    \"去除轨迹时间重复的点\"\n",
    "    the_len = len(traj) #轨迹数据列表的大小\n",
    "    newtraj = [traj[0]]  #取轨迹的第一条数据[时间戳，经度，维度]构成列表newtraj\n",
    "    for i in range(1, the_len):\n",
    "        p = traj[i]\n",
    "        if p[0] != newtraj[-1][0]:\n",
    "            newtraj.append(p)\n",
    "    return newtraj\n",
    "\n",
    "def traj_stay_merge(traj):\n",
    "    \"\"\"计算轨迹(traj)的起始时间、终止时间以及该轨迹中所有位置点的平均值\"\"\"\n",
    "    sx = 0 #累计横坐标\n",
    "    sy = 0 #累计纵坐标\n",
    "    the_len = len(traj)\n",
    "    for p in traj:\n",
    "        sx += p[1]\n",
    "        sy += p[2]\n",
    "    return traj[0][0], traj[-1][0], sx/the_len, sy/the_len\n",
    "\n",
    "def traj_stay_point(traj, vel_thres=2, min_stay_time=60*20, max_gap_time=3600):\n",
    "    \"\"\"计算轨迹停留点,返回轨迹停留点列表\n",
    "        traj: 轨迹对象\n",
    "        vel_thres (int, optional): 速度阈值m/s,轨迹点间速度<该阈值认为船舶停留.\n",
    "        min_stay_time (_type_, optional): 最小停留时长，如果船舶停留时长<该阈值,不认为船舶停留\n",
    "        max_gap_time (int, optional): 两轨迹点间时间差>该阈值时认为轨迹数据缺失，需重新计算停留点\n",
    "    \"\"\"\n",
    "    the_len = len(traj)\n",
    "    staypoints = [] #轨迹停留点列表\n",
    "    curstayseg = [] #待确认是否是停留点的轨迹点列表\n",
    "    for i in range(1,the_len):\n",
    "        p1 = traj[i-1] #索引0开始\n",
    "        p2 = traj[i]\n",
    "        dt = p2[0] - p1[0] #两条数据的时间差\n",
    "        if dt>max_gap_time: # >最大时间差，需重新计算停留点\n",
    "            if curstayseg:\n",
    "                staypoint = traj_stay_merge(curstayseg) \n",
    "                #停留点,（起始时间、终止时间以及该轨迹中所有位置点的平均值）\n",
    "                if staypoint[1] - staypoint[0] > min_stay_time: #>最小停留时间\n",
    "                    staypoints.append(staypoint)\n",
    "                curstayseg = []\n",
    "            continue\n",
    "        dd = distance(p1[1],p1[2],p2[1],p2[2]) #两个数据点的距离\n",
    "        \n",
    "        v = dd/dt #速度\n",
    "        if v<vel_thres: # <最小速度\n",
    "            curstayseg.append(p2)\n",
    "        else:\n",
    "            if curstayseg:\n",
    "                staypoint = traj_stay_merge(curstayseg)\n",
    "                if staypoint[1] - staypoint[0] > min_stay_time:\n",
    "                    staypoints.append(staypoint)\n",
    "                curstayseg = []\n",
    "    if curstayseg:\n",
    "        staypoint = traj_stay_merge(curstayseg)\n",
    "        if staypoint[1] - staypoint[0] > min_stay_time:\n",
    "            staypoints.append(staypoint)\n",
    "        curstayseg = []\n",
    "    return staypoints"
   ]
  },
  {
   "cell_type": "code",
   "execution_count": 6,
   "metadata": {},
   "outputs": [],
   "source": [
    "def staypoints_for_mmsi(mmsi):\n",
    "    \"\"\"计算船只的停留点\"\"\"\n",
    "    traj = getTrajByMMSI(mmsi)\n",
    "    # 轨迹简化，用以去重轨迹中的重复时间\n",
    "    traj_simple = traj_simplify(traj)\n",
    "\n",
    "    # 计算停留点(起始时间、终止时间以及该轨迹中所有位置点的平均值)\n",
    "    staypoints = traj_stay_point(traj_simple, vel_thres=2,\n",
    "                                 min_stay_time=60*20, max_gap_time=3600)\n",
    "    return staypoints\n",
    "\n",
    "def plot_staypoints_map(mmsi):\n",
    "    \"\"\"船只停留点在地图上的可视化\"\"\"\n",
    "    traj = getTrajByMMSI(mmsi)\n",
    "    traj_simple = traj_simplify(traj)# 轨迹简化，去重轨迹中的重复时间\n",
    "    staypoints = traj_stay_point(traj_simple, vel_thres=2, \n",
    "                                 min_stay_time=60*20, max_gap_time=3600)\n",
    "    # 计算停留点(起始时间、终止时间以及该轨迹中所有位置点的平均值)\n",
    "    \n",
    "    figure = folium.Figure(width=1000, height=500)# 创建地图，并添加船舶轨迹\n",
    "    map = folium.Map()\n",
    "    folium.TileLayer(\n",
    "        tiles=\"https://server.arcgisonline.com/ArcGIS/rest/services/World_Imagery/MapServer/tile/{z}/{y}/{x}\", \n",
    "        attr=\"ESRI IMAGERY\").add_to(map)\n",
    "    map.add_to(figure)\n",
    "    traj_to_folium(map, traj, zoom_to_traj=True)\n",
    "\n",
    "    # 停留点符号可视化风格\n",
    "    stayptstyle = {\n",
    "    'radius': 1, # 符号半径\n",
    "    'weight': 1, # 符号边框粗细\n",
    "    'color': 'pink', # 符号边框颜色\n",
    "    'opacity': 1, #符号边框透明度\n",
    "    'fill': True, #是否符号填充\n",
    "    'fillColor': 'pink', #符号填充颜色\n",
    "    'fillOpacity': 0.5  #符号填充透明度\n",
    "    }\n",
    "\n",
    "    # 计算最长停留点时长，用以控制停留点在地图上的大小\n",
    "    max_stay_dt = 0\n",
    "    for p in staypoints:\n",
    "        dt = (p[1] - p[0])\n",
    "        if dt > max_stay_dt:\n",
    "            max_stay_dt = dt\n",
    "\n",
    "    # 将停留点添加至地图，停留点大小表示停留时长\n",
    "    for p in staypoints:\n",
    "        dt = (p[1] - p[0])\n",
    "        stayptstyle['radius'] = dt / max_stay_dt * 10 #符号半径像素值\n",
    "        # folium.CircleMarker():在地图上指定位置创建圆形标记，p[3]:经度，p[2]:纬度\n",
    "        folium.CircleMarker(\n",
    "            [p[3], p[2]], \n",
    "            tooltip=f\"<b>Stay Time:</b> {dt} seconds<br/> <b>Stay Position:</b> ({p[2]},{p[3]})\", \n",
    "            **stayptstyle).add_to(map)\n",
    "    return map "
   ]
  },
  {
   "attachments": {},
   "cell_type": "markdown",
   "metadata": {},
   "source": [
    "### 读取CSV轨迹点数据"
   ]
  },
  {
   "attachments": {},
   "cell_type": "markdown",
   "metadata": {},
   "source": [
    "- **mmsi**：海上移动业务标识码，是船舶的唯一标识\n",
    "- **basedatetime**：AIS数据包的时间戳\n",
    "- **lat**：纬度，**lon**：经度\n",
    "- **sog**：船舶的地面速度,单位为节（knots）\n",
    "- **cog**:船舶的地面航向即船舶相对地面的运动方向，度数范围为0-359\n",
    "- **heading**:船头的朝向\n",
    "- **vesselname**:船名\n",
    "- **imo**：国际海事组织的缩写，指船舶的国际海事组织编码，也是船舶的唯一标识符之一\n",
    "- **callsign**：呼号，**vesseltype**：船舶类型\n",
    "- **status**：导航状态：航行、停泊、靠泊、故障无法操纵、因吃水限制受限制、搁浅、捕鱼、保留\n",
    "- **length**：船长，**width**：船宽\n",
    "- **draft**:船舶的吃水深度，即船体下沉的深度\n",
    "- **cargo**：船体所运输的货物类型\n",
    "- **transciever class**：AIS设备的级别或类型，classA与classB相比能传递更多信息"
   ]
  },
  {
   "cell_type": "code",
   "execution_count": null,
   "metadata": {},
   "outputs": [],
   "source": [
    "df_ais_pts = pd.read_csv(\"ais_pts.csv\") # 导入csv文件\n",
    "df_ais_pts.tail()"
   ]
  },
  {
   "cell_type": "code",
   "execution_count": 8,
   "metadata": {},
   "outputs": [
    {
     "data": {
      "text/plain": [
       "pandas.core.frame.DataFrame"
      ]
     },
     "execution_count": 8,
     "metadata": {},
     "output_type": "execute_result"
    }
   ],
   "source": [
    "type(df_ais_pts) # 二维的表格型数据结构，包含列名、行名和数据\n",
    "# 可看做pandas.series对象的容器，每一列都是pandas.series对象(一个一维的标签型数组，可指定标签索引来访问数据)"
   ]
  },
  {
   "cell_type": "code",
   "execution_count": 9,
   "metadata": {},
   "outputs": [
    {
     "data": {
      "text/plain": [
       "<Axes: >"
      ]
     },
     "execution_count": 9,
     "metadata": {},
     "output_type": "execute_result"
    },
    {
     "data": {
      "image/png": "[encoded data removed]",
      "text/plain": [
       "<Figure size 1200x500 with 1 Axes>"
      ]
     },
     "metadata": {},
     "output_type": "display_data"
    }
   ],
   "source": [
    "df_ais_pts.isnull().sum().plot(kind='barh', figsize=(12,5)) \n",
    "#属性cargo、draft、width、length、vesseltype、callsign、imo、vesselname都是空值，不可训练"
   ]
  },
  {
   "cell_type": "code",
   "execution_count": 10,
   "metadata": {},
   "outputs": [
    {
     "name": "stdout",
     "output_type": "stream",
     "text": [
      "10\n"
     ]
    },
    {
     "data": {
      "text/plain": [
       "array([338999000, 265023000, 367348910, 368084090, 338143353, 372628000,\n",
       "       563045300, 370039000, 368083770, 316001002], dtype=int64)"
      ]
     },
     "execution_count": 10,
     "metadata": {},
     "output_type": "execute_result"
    }
   ],
   "source": [
    "df_mmsi=df_ais_pts['mmsi'].unique()\n",
    "print(len(df_mmsi)) #一共有10条船的数据\n",
    "df_mmsi"
   ]
  },
  {
   "attachments": {},
   "cell_type": "markdown",
   "metadata": {},
   "source": [
    "### 可视化"
   ]
  },
  {
   "attachments": {},
   "cell_type": "markdown",
   "metadata": {},
   "source": [
    "#### 对船舶轨迹可视化"
   ]
  },
  {
   "cell_type": "code",
   "execution_count": null,
   "metadata": {},
   "outputs": [],
   "source": [
    "plot_traj_to_folium(df_mmsi[0]) # 红色：行迹折线，绿色：信息的坐标点"
   ]
  },
  {
   "cell_type": "code",
   "execution_count": 11,
   "metadata": {},
   "outputs": [],
   "source": [
    "for i in range(10):\n",
    "    m=plot_traj_to_folium(df_mmsi[i])\n",
    "    #将所有船的轨迹在地图上可视化，并保存到html文件中\n",
    "    m.save('data\\output\\plot_traj_mmsi={}.html'.format(df_mmsi[i]))"
   ]
  },
  {
   "cell_type": "code",
   "execution_count": null,
   "metadata": {},
   "outputs": [],
   "source": [
    "plot_traj_point_scatter(df_mmsi[0])"
   ]
  },
  {
   "attachments": {},
   "cell_type": "markdown",
   "metadata": {},
   "source": [
    "#### 停留点分析"
   ]
  },
  {
   "cell_type": "code",
   "execution_count": 13,
   "metadata": {},
   "outputs": [
    {
     "data": {
      "text/plain": [
       "[(1609430522.0, 1609482122.0, -117.12025691285102, 32.666460251107836),\n",
       " (1609483132.0, 1609568193.0, -117.120257870754, 32.66642809444911),\n",
       " (1609571832.0, 1609632062.0, -117.12026948253569, 32.66646043984476),\n",
       " (1609632123.0, 1609652903.0, -117.12025628070181, 32.666470385964914),\n",
       " (1609653682.0, 1609655453.0, -117.1160088, 32.6608464),\n",
       " (1609655593.0, 1609727252.0, -117.12028447916688, 32.6664455104167),\n",
       " (1609740262.0, 1609825553.0, -117.12026746724915, 32.66646438427946),\n",
       " (1609827024.0, 1609859753.0, -117.12027191685915, 32.66644695150112)]"
      ]
     },
     "execution_count": 13,
     "metadata": {},
     "output_type": "execute_result"
    }
   ],
   "source": [
    "staypoints_for_mmsi(df_mmsi[0])"
   ]
  },
  {
   "attachments": {},
   "cell_type": "markdown",
   "metadata": {},
   "source": [
    "#### 停留点可视化"
   ]
  },
  {
   "cell_type": "code",
   "execution_count": null,
   "metadata": {},
   "outputs": [],
   "source": [
    "plot_staypoints_map(df_mmsi[0])"
   ]
  },
  {
   "cell_type": "code",
   "execution_count": 15,
   "metadata": {},
   "outputs": [],
   "source": [
    "for i in range(10):\n",
    "    m=plot_staypoints_map(df_mmsi[i])\n",
    "    #将所有船的停留点图像保存到html文件中\n",
    "    m.save('data\\output\\plot_staypotints_mmsi={}.html'.format(df_mmsi[i]))"
   ]
  },
  {
   "attachments": {},
   "cell_type": "markdown",
   "metadata": {},
   "source": [
    "### 根据航行数据分析船舶航行路线"
   ]
  },
  {
   "cell_type": "code",
   "execution_count": 16,
   "metadata": {},
   "outputs": [
    {
     "data": {
      "image/png": "[encoded data removed]",
      "text/plain": [
       "<Figure size 1200x500 with 1 Axes>"
      ]
     },
     "metadata": {},
     "output_type": "display_data"
    }
   ],
   "source": [
    "position_all = df_ais_pts[['lat','lon']] #10条船所有AIS信息中的位置坐标\n",
    "position_all.plot.scatter(x='lon',y='lat',figsize=(12,5)).grid()"
   ]
  },
  {
   "cell_type": "code",
   "execution_count": null,
   "metadata": {},
   "outputs": [],
   "source": [
    "# 提取一艘船所有的经纬度\n",
    "#colors=['blue','cyan','green','black','magenta'\t,'red','yellow','pink','brown','purple']\n",
    "for i in range(10):\n",
    "    plot_traj_point_scatter(df_mmsi[i])"
   ]
  },
  {
   "cell_type": "code",
   "execution_count": 20,
   "metadata": {},
   "outputs": [],
   "source": [
    "mmsi=370039000 #df_mmsi[7]\n",
    "traj = getTrajByMMSI(mmsi) # 轨迹简化\n",
    "traj_simple = traj_simplify(traj)\n",
    "position=np.array(traj_simple)[:,1:3] # 船的经纬度坐标，经度lon，纬度lat"
   ]
  },
  {
   "cell_type": "code",
   "execution_count": 22,
   "metadata": {},
   "outputs": [],
   "source": [
    "# DBSCAN聚类，这里面的eps，min_sample参数人为调整\n",
    "# 一般来说min_samples小，异常点少，但是过少会让算法认定所有数据都正常而无法聚类，eps小，聚的类多\n",
    "db = DBSCAN(eps=0.1, min_samples=6).fit(position)"
   ]
  },
  {
   "cell_type": "code",
   "execution_count": 23,
   "metadata": {},
   "outputs": [
    {
     "name": "stdout",
     "output_type": "stream",
     "text": [
      "标签种类： [0, 1, -1]\n",
      "聚类个数： 2\n",
      "异常点个数： 1\n",
      "每个簇的样本个数 [2414  312]\n"
     ]
    }
   ],
   "source": [
    "title = db.labels_ # 获得每个点对应的聚类结果的标签\n",
    "title_list = list(set(list(title))) \n",
    "print(\"标签种类：\",title_list)\n",
    "\n",
    "# 统计各参数组合下的聚类个数（-1表示异常点）\n",
    "n_clusters = len([i for i in set(db.labels_) if i != -1])\n",
    "print(\"聚类个数：\",n_clusters)\n",
    "\n",
    "# 异常点的个数，如果异常点个数过多，则说明聚类效果不是特别好\n",
    "outliners = np.sum(np.where(db.labels_ == -1, 1,0))\n",
    "print(\"异常点个数：\",outliners)\n",
    "\n",
    "# 统计每个簇的样本个数\n",
    "stats = pd.Series([i for i in db.labels_ if i != -1]).value_counts().values\n",
    "print(\"每个簇的样本个数\",stats)"
   ]
  },
  {
   "cell_type": "code",
   "execution_count": 24,
   "metadata": {},
   "outputs": [
    {
     "name": "stdout",
     "output_type": "stream",
     "text": [
      "           lon       lat  group\n",
      "2722 -78.44547  25.77250      0\n",
      "2723 -78.44632  25.77130      0\n",
      "2724 -78.44633  25.77125      0\n",
      "2725 -78.44578  25.77157      0\n",
      "2726 -78.44577  25.77162      0\n"
     ]
    }
   ],
   "source": [
    "df1=pd.DataFrame(position)\n",
    "df1.columns = ['lon','lat']\n",
    "df2=pd.DataFrame(title)\n",
    "df2.columns = ['group']\n",
    "position_1abel=pd.concat([df1,df2],axis=1) \n",
    "#将聚类得到的种类标签和坐标点合并\n",
    "print(position_1abel.tail())"
   ]
  },
  {
   "attachments": {},
   "cell_type": "markdown",
   "metadata": {},
   "source": [
    "#### 查看聚类情况（横坐标为经度，纵坐标为纬度）"
   ]
  },
  {
   "cell_type": "code",
   "execution_count": null,
   "metadata": {},
   "outputs": [],
   "source": [
    "# 查看聚类情况（横坐标为经度，纵坐标为纬度）\n",
    "position_1abel['group'].replace({0:'簇1',1:'簇2',-1:'异常点',2:'簇4',3:'簇5',4:'簇6'},inplace=True)\n",
    "# 将分组后数值标签转换为文本标签\n",
    "\n",
    "plt.rcParams['axes.unicode_minus']=False\n",
    "#避免UserWarning: Glyph 8722 (\\N{MINUS SIGN}) missing，使图像中的中文和负号正常显示\n",
    "\n",
    "sns.set_theme(context='notebook',style='darkgrid',\n",
    "              palette='deep',font='SimHei',font_scale=1,rc=None)\n",
    "#context参数：上下文参数，style参数：样式参数，palette参数：色盘参数\n",
    "\n",
    "fig = plt.figure(figsize=(15,8))\n",
    "ax1 = fig.add_subplot(111)\n",
    "markers = {'簇1':'o','簇2':'X','异常点':'*','簇4':'o','簇5':'o','簇6':'o'}\n",
    "sns.scatterplot(x='lon', y='lat', hue='group',\n",
    "                data=position_1abel, markers=markers, style='group')\n",
    "ax1.legend(title='',fontsize=10)\n",
    "ax1.set_xlabel('经度',size=20)\n",
    "ax1.set_ylabel('纬度',size=20)\n",
    "plt.xticks(size=12)\n",
    "plt.yticks(size=12)\n",
    "plt.title('AIS轨迹(mmsi={})'.format(mmsi),size=30)\n",
    "plt.tight_layout()\n",
    "plt.savefig('data\\output\\AIS轨迹_mmsi={}.jpg'.format(mmsi),dpi=500)\n",
    "plt.show()"
   ]
  },
  {
   "attachments": {},
   "cell_type": "markdown",
   "metadata": {},
   "source": [
    "### 预测路线GRU"
   ]
  },
  {
   "attachments": {},
   "cell_type": "markdown",
   "metadata": {},
   "source": [
    "#### 切分训练集和测试集"
   ]
  },
  {
   "cell_type": "code",
   "execution_count": 27,
   "metadata": {},
   "outputs": [
    {
     "data": {
      "text/plain": [
       "[(1610756275.0, -78.44547, 25.7725),\n",
       " (1610771934.0, -78.44632, 25.7713),\n",
       " (1610773014.0, -78.44633, 25.77125),\n",
       " (1610775355.0, -78.44578, 25.77157),\n",
       " (1610775535.0, -78.44577, 25.77162)]"
      ]
     },
     "execution_count": 27,
     "metadata": {},
     "output_type": "execute_result"
    }
   ],
   "source": [
    "traj_simple[-5:]"
   ]
  },
  {
   "cell_type": "code",
   "execution_count": 28,
   "metadata": {},
   "outputs": [
    {
     "data": {
      "text/html": [
       "<div>\n",
       "<style scoped>\n",
       "    .dataframe tbody tr th:only-of-type {\n",
       "        vertical-align: middle;\n",
       "    }\n",
       "\n",
       "    .dataframe tbody tr th {\n",
       "        vertical-align: top;\n",
       "    }\n",
       "\n",
       "    .dataframe thead th {\n",
       "        text-align: right;\n",
       "    }\n",
       "</style>\n",
       "<table border=\"1\" class=\"dataframe\">\n",
       "  <thead>\n",
       "    <tr style=\"text-align: right;\">\n",
       "      <th></th>\n",
       "      <th>0</th>\n",
       "      <th>1</th>\n",
       "    </tr>\n",
       "  </thead>\n",
       "  <tbody>\n",
       "    <tr>\n",
       "      <th>1.610756e+09</th>\n",
       "      <td>-78.44547</td>\n",
       "      <td>25.77250</td>\n",
       "    </tr>\n",
       "    <tr>\n",
       "      <th>1.610772e+09</th>\n",
       "      <td>-78.44632</td>\n",
       "      <td>25.77130</td>\n",
       "    </tr>\n",
       "    <tr>\n",
       "      <th>1.610773e+09</th>\n",
       "      <td>-78.44633</td>\n",
       "      <td>25.77125</td>\n",
       "    </tr>\n",
       "    <tr>\n",
       "      <th>1.610775e+09</th>\n",
       "      <td>-78.44578</td>\n",
       "      <td>25.77157</td>\n",
       "    </tr>\n",
       "    <tr>\n",
       "      <th>1.610776e+09</th>\n",
       "      <td>-78.44577</td>\n",
       "      <td>25.77162</td>\n",
       "    </tr>\n",
       "  </tbody>\n",
       "</table>\n",
       "</div>"
      ],
      "text/plain": [
       "                     0         1\n",
       "1.610756e+09 -78.44547  25.77250\n",
       "1.610772e+09 -78.44632  25.77130\n",
       "1.610773e+09 -78.44633  25.77125\n",
       "1.610775e+09 -78.44578  25.77157\n",
       "1.610776e+09 -78.44577  25.77162"
      ]
     },
     "execution_count": 28,
     "metadata": {},
     "output_type": "execute_result"
    }
   ],
   "source": [
    "t_position=pd.DataFrame(position,index=np.array(traj_simple)[:,0])\n",
    "t_position.tail()"
   ]
  },
  {
   "cell_type": "code",
   "execution_count": 29,
   "metadata": {},
   "outputs": [
    {
     "name": "stdout",
     "output_type": "stream",
     "text": [
      "<class 'pandas.core.frame.DataFrame'>\n",
      "Index: 2727 entries, 1609438569.0 to 1610775535.0\n",
      "Data columns (total 2 columns):\n",
      " #   Column  Non-Null Count  Dtype  \n",
      "---  ------  --------------  -----  \n",
      " 0   0       2727 non-null   float64\n",
      " 1   1       2727 non-null   float64\n",
      "dtypes: float64(2)\n",
      "memory usage: 63.9 KB\n"
     ]
    }
   ],
   "source": [
    "t_position.info()"
   ]
  },
  {
   "cell_type": "code",
   "execution_count": 30,
   "metadata": {},
   "outputs": [],
   "source": [
    "def load_data(data,look_back):\n",
    "    data_raw = data.values #numpy array类型\n",
    "    data = []\n",
    "    for index in range(len(data_raw)-look_back):\n",
    "        #从data_raw中截取长度为look_back的数据\n",
    "        data.append(data_raw[index:index+look_back]) #使用list拼接数据集\n",
    "    data = np.array(data) #再转化为numpy array类型\n",
    "    #每隔60个数据点取一个样本，前59个数据点作为输入后一个作为输出\n",
    "    \n",
    "    test_set_size=int(np.round(0.2*data.shape[0])) #测试集占data的20%\n",
    "    train_set_size=data.shape[0]-(test_set_size)\n",
    "    \n",
    "    x_train=torch.Tensor(data[:train_set_size,:-1,:]) #转化为张量\n",
    "    y_train=torch.Tensor(data[:train_set_size,-1,:])\n",
    "    x_test=torch.Tensor(data[train_set_size:,:-1,:])\n",
    "    y_test=torch.Tensor(data[train_set_size:,-1,:])\n",
    "    return [x_train,y_train,x_test,y_test]"
   ]
  },
  {
   "cell_type": "code",
   "execution_count": 31,
   "metadata": {},
   "outputs": [
    {
     "name": "stdout",
     "output_type": "stream",
     "text": [
      "x_train.shape torch.Size([2134, 59, 2])\n",
      "x_test.shape torch.Size([533, 59, 2])\n",
      "y_train.shape torch.Size([2134, 2])\n",
      "y_test.shape torch.Size([533, 2])\n"
     ]
    }
   ],
   "source": [
    "x_train,y_train,x_test,y_test=load_data(t_position,look_back=60)\n",
    "print(\"x_train.shape\",x_train.shape)\n",
    "print(\"x_test.shape\",x_test.shape)\n",
    "print(\"y_train.shape\",y_train.shape)\n",
    "print(\"y_test.shape\",y_test.shape)"
   ]
  },
  {
   "attachments": {},
   "cell_type": "markdown",
   "metadata": {},
   "source": [
    "### 定义GRU模型"
   ]
  },
  {
   "cell_type": "code",
   "execution_count": 32,
   "metadata": {},
   "outputs": [],
   "source": [
    "class GRU(nn.Module):\n",
    "    def __init__(self,input_dim,hidden_dim,num_layers,output_dim):\n",
    "        super(GRU,self).__init__()\n",
    "        self.input_dim=input_dim\n",
    "        self.hidden_dim=hidden_dim\n",
    "        self.num_layers=num_layers\n",
    "        self.output_dim=output_dim\n",
    "        \n",
    "        self.gru=nn.GRU(input_dim,hidden_dim,num_layers,batch_first=True)\n",
    "        self.fc=nn.Linear(hidden_dim,output_dim)\n",
    "    def forward(self,x):\n",
    "        h0=torch.zeros(self.num_layers,x.size(0),self.hidden_dim).requires_grad_()\n",
    "        out,hn=self.gru(x,h0.detach())\n",
    "        #hn：隐藏状态，hidden state \n",
    "        out=self.fc(out[:,-1,:])\n",
    "        return out"
   ]
  },
  {
   "cell_type": "code",
   "execution_count": 33,
   "metadata": {},
   "outputs": [],
   "source": [
    "model=GRU(input_dim=2,hidden_dim=32,num_layers=2,output_dim=2)\n",
    "loss_fn = nn.MSELoss()\n",
    "optimizer = torch.optim.Adam(model.parameters(),lr=0.01)"
   ]
  },
  {
   "cell_type": "code",
   "execution_count": 34,
   "metadata": {},
   "outputs": [
    {
     "data": {
      "text/plain": [
       "tensor([[-78.2664,  25.8726],\n",
       "        [-78.2372,  25.8851],\n",
       "        [-78.2321,  25.8873],\n",
       "        ...,\n",
       "        [-80.1678,  25.7762],\n",
       "        [-80.1678,  25.7762],\n",
       "        [-80.1678,  25.7762]])"
      ]
     },
     "execution_count": 34,
     "metadata": {},
     "output_type": "execute_result"
    }
   ],
   "source": [
    "y_train"
   ]
  },
  {
   "attachments": {},
   "cell_type": "markdown",
   "metadata": {},
   "source": [
    "#### 训练模型"
   ]
  },
  {
   "cell_type": "code",
   "execution_count": 35,
   "metadata": {},
   "outputs": [],
   "source": [
    "def eculidDisSim(x,y):\n",
    "    '''一维数据的欧几里距离\n",
    "    两个向量之间的距离特别小时相似度高，反之相似度不高。'''\n",
    "    return np.sqrt(sum(pow(a-b,2) for a,b in zip(x,y)))"
   ]
  },
  {
   "cell_type": "code",
   "execution_count": null,
   "metadata": {},
   "outputs": [],
   "source": [
    "num_epochs=600 # 数据没有归一化,所以loss数值会较大\n",
    "hist=np.zeros(num_epochs)\n",
    "dist_list=np.zeros(num_epochs)\n",
    "scr_list=np.zeros(num_epochs)\n",
    "print(\"GRU's training(mmsi={})\".format(mmsi))\n",
    "for t in range(num_epochs):\n",
    "    y_train_pred=model(x_train)\n",
    "    loss=loss_fn(y_train_pred,y_train)\n",
    "    dist=eculidDisSim(y_train_pred.detach().numpy(),y_train.detach().numpy())\n",
    "    score=(dist[0]+dist[1])/2\n",
    "    if t%10==0 and t!=0:\n",
    "        print(\"Epoch:\",t,\"     MSE:{:6f}     dist:{}     score:{:6f}\".format(loss.item(),dist,score))\n",
    "    hist[t]=loss.item()\n",
    "    scr_list[t]=score.item()\n",
    "    optimizer.zero_grad()\n",
    "    loss.backward()\n",
    "    optimizer.step()"
   ]
  },
  {
   "attachments": {},
   "cell_type": "markdown",
   "metadata": {},
   "source": [
    "####  绘制训练结果图像"
   ]
  },
  {
   "cell_type": "code",
   "execution_count": null,
   "metadata": {},
   "outputs": [],
   "source": [
    "#将loss和acc列表归一化，方便可视化\n",
    "hist_max=max(hist)\n",
    "for i in range(len(hist)):\n",
    "    hist[i]=hist[i]/hist_max\n",
    "    \n",
    "acc_max=max(scr_list)\n",
    "for i in range(len(scr_list)):\n",
    "    scr_list[i]=scr_list[i]/acc_max"
   ]
  },
  {
   "cell_type": "code",
   "execution_count": null,
   "metadata": {},
   "outputs": [],
   "source": [
    "fig = plt.figure() \n",
    "plt.plot(range(num_epochs),hist[range(num_epochs)], label='Train Loss')\n",
    "plt.xlabel(\"epochs\")\n",
    "plt.title(\"MSELoss per epoch (mmsi={})\".format(mmsi))\n",
    "plt.grid()\n",
    "\n",
    "fig = plt.figure()\n",
    "plt.plot(range(num_epochs),scr_list[range(num_epochs)], label='Train Score')\n",
    "plt.xlabel(\"epochs\")\n",
    "plt.title(\"Score per epoch (mmsi={})\".format(mmsi))\n",
    "plt.grid()\n",
    "\n",
    "plt.show()"
   ]
  },
  {
   "attachments": {},
   "cell_type": "markdown",
   "metadata": {},
   "source": [
    "#### 测试"
   ]
  },
  {
   "cell_type": "code",
   "execution_count": null,
   "metadata": {},
   "outputs": [],
   "source": [
    "model.eval()#测试集不需要多个epoch\n",
    "print(\"mmsi:\",mmsi)\n",
    "y_test_pred = model(x_test) # 对测试数据执行预测\n",
    "test_loss=loss_fn(y_test_pred,y_test)\n",
    "score = eculidDisSim(y_test_pred.detach().numpy(),y_test.detach().numpy())\n",
    "test_score=(score[0]+score[1])/2 \n",
    "print('Test Loss: {:.6f}'.format( test_loss))\n",
    "print('Test Score: {:.3f}'.format( test_score))"
   ]
  },
  {
   "cell_type": "code",
   "execution_count": null,
   "metadata": {},
   "outputs": [],
   "source": [
    "print(\"mmsi:\",mmsi)\n",
    "print(\"真实值：\",y_test[1]) \n",
    "print(\"预测值：\",y_test_pred[1]) \n",
    "\n",
    "#print hello"
   ]
  }
 ],
 "metadata": {
  "kernelspec": {
   "display_name": "Python 3.8.6 ('ox')",
   "language": "python",
   "name": "python3"
  },
  "language_info": {
   "codemirror_mode": {
    "name": "ipython",
    "version": 3
   },
   "file_extension": ".py",
   "mimetype": "text/x-python",
   "name": "python",
   "nbconvert_exporter": "python",
   "pygments_lexer": "ipython3",
   "version": "3.8.2"
  },
  "orig_nbformat": 4,
  "vscode": {
   "interpreter": {
    "hash": "1f213e57850a846c49dcbf60bae108795bb6f2692884a6ff0ded4face2c66ef7"
   }
  }
 },
 "nbformat": 4,
 "nbformat_minor": 2
}
